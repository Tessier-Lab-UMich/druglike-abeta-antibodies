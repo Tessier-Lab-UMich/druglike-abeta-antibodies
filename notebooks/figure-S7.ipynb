{
 "cells": [
  {
   "cell_type": "code",
   "execution_count": 1,
   "id": "4eb3100d-64c4-4a8f-867a-1879f1ec23a8",
   "metadata": {},
   "outputs": [],
   "source": [
    "from matplotlib import font_manager as fm\n",
    "from scipy.stats import ttest_ind\n",
    "import matplotlib.pyplot as plt\n",
    "from data_fitting import *\n",
    "import pandas as pd\n",
    "import numpy as np\n",
    "import itertools\n",
    "import os\n",
    "\n",
    "repo_root = os.path.dirname(os.getcwd())\n",
    "\n",
    "colors = ['k']\n",
    "for i in range(10):\n",
    "    colors.append(plt.get_cmap('tab10')(i))"
   ]
  },
  {
   "cell_type": "code",
   "execution_count": 2,
   "id": "30be1fb0-b08c-4614-9869-53f04ffac615",
   "metadata": {},
   "outputs": [
    {
     "name": "stdout",
     "output_type": "stream",
     "text": [
      "ERROR BARS False\n",
      "No Error Bars\n",
      "ERROR BARS False\n",
      "No Error Bars\n"
     ]
    }
   ],
   "source": [
    "rep1 = fit_data(\n",
    "    data_excel = os.path.join(repo_root, \"data\", \"97_maturation_fibril_binding.xlsx\"), #Name of excel sheet or path to it.,\n",
    "    curve_function = logistic, #python function defining curve you want to fit,\n",
    "    number_fit_points = 100000,  #number of points to use for curve in graph, higher means smoother\n",
    "    sheet_name='Rep 1',\n",
    "    graph = False, #graphs the dataset and fitted curves if True\n",
    "    bounds = ((0, 0, 0), (2000, 2000, 100)), #gives bounds on fitted parameters. see scipy.optimize.curve_fit\n",
    "    log_x = True, #makes x-axis log scale\n",
    "    log_y = False,\n",
    "    fig_size = (7.2, 6), #specifies figure size\n",
    "    error_bars = False, #specifies wheter there are errorbars with the data\n",
    "    markersize = 15, #specifies size of data points\n",
    "    #save_fig = 'Example_Graph.png', #file_name of saved graph.\n",
    "    colors = colors, #list of colors for each dataset\n",
    "    face = colors, #list of colors for each datapoint face\n",
    "    xlims = None, #specifies x axis limits\n",
    "    ylims = None, #specifies x axis limits\n",
    ")\n",
    "\n",
    "rep2 = fit_data(\n",
    "    data_excel = os.path.join(repo_root, \"data\", \"97_maturation_fibril_binding.xlsx\"), #Name of excel sheet or path to it.,\n",
    "    curve_function = logistic, #python function defining curve you want to fit,\n",
    "    number_fit_points = 100000,  #number of points to use for curve in graph, higher means smoother\n",
    "    sheet_name='Rep 2',\n",
    "    graph = False, #graphs the dataset and fitted curves if True\n",
    "    bounds = ((0, 0, 0), (2000, 2000, 100)), #gives bounds on fitted parameters. see scipy.optimize.curve_fit\n",
    "    log_x = True, #makes x-axis log scale\n",
    "    log_y = False,\n",
    "    fig_size = (7.2, 6), #specifies figure size\n",
    "    error_bars = False, #specifies wheter there are errorbars with the data\n",
    "    markersize = 15, #specifies size of data points\n",
    "    #save_fig = 'Example_Graph.png', #file_name of saved graph.\n",
    "    colors = colors, #list of colors for each dataset\n",
    "    face = colors, #list of colors for each datapoint face\n",
    "    xlims = None, #specifies x axis limits\n",
    "    ylims = None, #specifies x axis limits\n",
    ")\n",
    "\n",
    "_, _, legends, _, _ = get_data(\n",
    "    os.path.join(repo_root, \"data\", \"97_maturation_fibril_binding.xlsx\"),\n",
    "    sheet_name = \"Avg Normal\",\n",
    "    error_bars = \"ERROR BARS\"\n",
    ")\n",
    "\n",
    "legends = [str(l) for l in legends]"
   ]
  },
  {
   "cell_type": "code",
   "execution_count": 23,
   "id": "c7efd38e-d480-4867-a6aa-33180abaf8f4",
   "metadata": {},
   "outputs": [
    {
     "name": "stdout",
     "output_type": "stream",
     "text": [
      "WT EC50s=[5.38819854 4.07934543]\n",
      "97A3: EC50=[1.69476125 0.92086008], t=4.506, p=0.0333\n",
      "97A5: EC50=[1.38539634 0.5504954 ], t=4.851, p=0.0273\n",
      "97A7: EC50=[0.46883349 0.28348438], t=6.593, p=0.0448\n",
      "97A34: EC50=[0.2748197  0.15861662], t=6.875, p=0.0447\n",
      "97A35: EC50=[1.58009144 1.25658366], t=4.918, p=0.0539\n",
      "aducanumab: EC50=[0.89122675 0.58739771], t=5.946, p=0.0448\n",
      "crenezumab: EC50=[6.92656143 6.69107589], t=-3.121, p=0.9074\n"
     ]
    }
   ],
   "source": [
    "# Convert to DataFrame\n",
    "df = pd.DataFrame({\n",
    "    'group': np.tile(legends, 2),\n",
    "    'EC50': np.concatenate([rep1[0]['EC50'], rep2[0]['EC50']]),\n",
    "    'replicate': np.repeat(['rep1', 'rep2'], len(legends))\n",
    "})\n",
    "summary = df.groupby('group', observed=True)['EC50'].agg(['mean', 'std'])\n",
    "summary = summary.reindex(legends)\n",
    "\n",
    "print(f\"WT EC50s={df.loc[df['group'] == '97', 'EC50'].values}\")\n",
    "pvals = {}\n",
    "for g in legends[1:]:\n",
    "    vals1 = df.loc[df['group'] == \"97\", 'EC50']\n",
    "    vals2 = df.loc[df['group'] == g, 'EC50']\n",
    "    stat, pval = ttest_ind(vals1, vals2, equal_var=False, alternative = \"greater\")\n",
    "\n",
    "    print(f\"{g}: EC50={vals2.values}, t={stat:.3f}, p={pval:.4f}\")\n",
    "    pvals[g] = pval"
   ]
  },
  {
   "cell_type": "code",
   "execution_count": 16,
   "id": "aefa0789-880b-43d3-91a7-7bad71324e15",
   "metadata": {},
   "outputs": [],
   "source": [
    "def annotate_stars(ax, bars, pvals, se, fontprops, pad_frac=0.03, log_pad_factor=1.10):\n",
    "    ymin, ymax = ax.get_ylim()\n",
    "    logy = ax.get_yscale() == 'log'\n",
    "\n",
    "    # allow Series or arrays\n",
    "    if isinstance(se, (pd.Series,)):\n",
    "        se_vals = se.to_numpy()\n",
    "    else:\n",
    "        se_vals = np.asarray(se)\n",
    "    if isinstance(pvals, (pd.Series,)):\n",
    "        p_vals = pvals.to_numpy()\n",
    "    else:\n",
    "        p_vals = np.asarray(pvals)\n",
    "\n",
    "    for i, (rect, p) in enumerate(zip(bars.patches, p_vals)):\n",
    "        if not np.isfinite(p) or p >= 0.05:\n",
    "            continue\n",
    "        mu = rect.get_height()\n",
    "        se_i = se_vals[i] if np.isfinite(se_vals[i]) else 0.0\n",
    "        top = mu + se_i\n",
    "\n",
    "        if logy:\n",
    "            if top <= 0:   # safety for log axes\n",
    "                continue\n",
    "            y = top * log_pad_factor\n",
    "        else:\n",
    "            y = top + (ymax - ymin) * pad_frac\n",
    "\n",
    "        x = rect.get_x() + rect.get_width() / 2.0\n",
    "        ax.text(x, y, \"*\", ha=\"center\", va=\"bottom\", fontproperties=fontprops)"
   ]
  },
  {
   "cell_type": "code",
   "execution_count": 17,
   "id": "35c13ffd-6877-44a4-8f80-c22bcfcc7807",
   "metadata": {},
   "outputs": [
    {
     "data": {
      "image/png": "[encoded data removed]",
      "text/plain": [
       "<Figure size 720x600 with 1 Axes>"
      ]
     },
     "metadata": {},
     "output_type": "display_data"
    }
   ],
   "source": [
    "fpath = \"/Library/Fonts/Myriad Pro Regular.ttf\"\n",
    "if os.path.exists(fpath):\n",
    "    prop = fm.FontProperties(fname = fpath, size = 24)\n",
    "    propg = fm.FontProperties(fname = fpath, size = 14)\n",
    "else:\n",
    "    prop = fm.FontProperties(size = 24)\n",
    "    propg = fm.FontProperties(size = 14)\n",
    "\n",
    "fig, ax = plt.subplots(figsize=(7.2, 6))\n",
    "x = np.arange(len(summary))\n",
    "bars = ax.bar(x, summary['mean'], yerr=summary['std'], capsize=4, color = colors)\n",
    "\n",
    "ax.set_xticks(x)\n",
    "ax.set_xticklabels(summary.index, rotation=90, fontproperties = prop)\n",
    "\n",
    "ax.set_yticks([0, 3, 6, 9, 12])\n",
    "for tick in ax.get_yticklabels():\n",
    "    tick.set_fontproperties(prop)\n",
    "ax.set_ylabel(r'$EC_{50}$ (nM)', fontproperties = prop)\n",
    "\n",
    "y_max = (summary['mean'] + summary['std']).max()\n",
    "\n",
    "p_series = pd.Series({lab: pvals.get(lab, float('nan')) for lab in summary.index}, index=summary.index)\n",
    "p_series.iloc[0] = float('nan')  # don't annotate WT itself (assumes WT is first)\n",
    "\n",
    "# Add stars above the error bars (μ + std)\n",
    "annotate_stars(ax, bars, p_series, se=summary['std'], fontprops=propg, pad_frac=0.02)\n",
    "\n",
    "\n",
    "ax.set_ylim(top=ax.get_ylim()[1] + 0.15 * (y_max - ax.get_ylim()[0]))\n",
    "\n",
    "plt.tight_layout()\n",
    "plt.savefig(os.path.join(repo_root, \"results\", 'Figure-S7.pdf'), transparent = True, dpi = 600)\n",
    "plt.show()"
   ]
  }
 ],
 "metadata": {
  "kernelspec": {
   "display_name": "Python 3 (ipykernel)",
   "language": "python",
   "name": "python3"
  },
  "language_info": {
   "codemirror_mode": {
    "name": "ipython",
    "version": 3
   },
   "file_extension": ".py",
   "mimetype": "text/x-python",
   "name": "python",
   "nbconvert_exporter": "python",
   "pygments_lexer": "ipython3",
   "version": "3.13.2"
  }
 },
 "nbformat": 4,
 "nbformat_minor": 5
}
